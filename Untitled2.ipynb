{
  "nbformat": 4,
  "nbformat_minor": 0,
  "metadata": {
    "colab": {
      "name": "Untitled2.ipynb",
      "provenance": [],
      "collapsed_sections": [],
      "authorship_tag": "ABX9TyNAubG96/eiVexUcZGdsmXk",
      "include_colab_link": true
    },
    "kernelspec": {
      "name": "python2",
      "display_name": "Python 2"
    },
    "accelerator": "GPU"
  },
  "cells": [
    {
      "cell_type": "markdown",
      "metadata": {
        "id": "view-in-github",
        "colab_type": "text"
      },
      "source": [
        "<a href=\"https://colab.research.google.com/github/leohafsa/AssignmentNo3/blob/master/Untitled2.ipynb\" target=\"_parent\"><img src=\"https://colab.research.google.com/assets/colab-badge.svg\" alt=\"Open In Colab\"/></a>"
      ]
    },
    {
      "cell_type": "code",
      "metadata": {
        "id": "FgtMaL41likW",
        "colab_type": "code",
        "colab": {
          "base_uri": "https://localhost:8080/",
          "height": 1000
        },
        "outputId": "629680ba-8843-4cd8-ed12-ab25d7f4a44e"
      },
      "source": [
        "!pip install q keras==2.0.0\n",
        "!pip install numpy==1.15.0\n",
        "!pip install Pillow==4.3.0\n",
        "!pip install opencv-python==3.4.1.15\n",
        "!pip install h5py==2.7.0\n",
        "!pip install ConfigParser==3.5.0b2\n",
        "!pip install scikit-learn==0.20\n",
        "!pip install torchvision==0.3.0\n",
        "!pip install torch==0.3.1\n",
        "!pip install imgaug==0.2.5"
      ],
      "execution_count": 1,
      "outputs": [
        {
          "output_type": "stream",
          "text": [
            "Collecting q\n",
            "  Downloading https://files.pythonhosted.org/packages/53/bc/51619d89e0bd855567e7652fa16d06f1ed36a85f108a7fe71f6629bf719d/q-2.6-py2.py3-none-any.whl\n",
            "Collecting keras==2.0.0\n",
            "\u001b[?25l  Downloading https://files.pythonhosted.org/packages/95/bf/98ce2f2ab1364f6e83c0ffc5216fff3058fd990d8a3b957ebad3a6cedeeb/Keras-2.0.0.tar.gz (191kB)\n",
            "\u001b[K     |████████████████████████████████| 194kB 10.5MB/s \n",
            "\u001b[?25hRequirement already satisfied: tensorflow in /usr/local/lib/python2.7/dist-packages (from keras==2.0.0) (2.1.0)\n",
            "Requirement already satisfied: pyyaml in /usr/local/lib/python2.7/dist-packages (from keras==2.0.0) (3.13)\n",
            "Requirement already satisfied: six in /usr/local/lib/python2.7/dist-packages (from keras==2.0.0) (1.12.0)\n",
            "Requirement already satisfied: gast==0.2.2 in /usr/local/lib/python2.7/dist-packages (from tensorflow->keras==2.0.0) (0.2.2)\n",
            "Requirement already satisfied: grpcio>=1.8.6 in /usr/local/lib/python2.7/dist-packages (from tensorflow->keras==2.0.0) (1.15.0)\n",
            "Requirement already satisfied: numpy<2.0,>=1.16.0 in /usr/local/lib/python2.7/dist-packages (from tensorflow->keras==2.0.0) (1.16.4)\n",
            "Requirement already satisfied: protobuf>=3.8.0 in /usr/local/lib/python2.7/dist-packages (from tensorflow->keras==2.0.0) (3.8.0)\n",
            "Requirement already satisfied: scipy==1.2.2; python_version < \"3\" in /usr/local/lib/python2.7/dist-packages (from tensorflow->keras==2.0.0) (1.2.2)\n",
            "Requirement already satisfied: wheel; python_version < \"3\" in /usr/local/lib/python2.7/dist-packages (from tensorflow->keras==2.0.0) (0.34.2)\n",
            "Requirement already satisfied: wrapt>=1.11.1 in /usr/local/lib/python2.7/dist-packages (from tensorflow->keras==2.0.0) (1.11.2)\n",
            "Requirement already satisfied: enum34>=1.1.6; python_version < \"3.4\" in /usr/local/lib/python2.7/dist-packages (from tensorflow->keras==2.0.0) (1.1.6)\n",
            "Requirement already satisfied: keras-preprocessing>=1.1.0 in /usr/local/lib/python2.7/dist-packages (from tensorflow->keras==2.0.0) (1.1.0)\n",
            "Requirement already satisfied: backports.weakref>=1.0rc1; python_version < \"3.4\" in /usr/local/lib/python2.7/dist-packages (from tensorflow->keras==2.0.0) (1.0.post1)\n",
            "Collecting tensorflow-estimator<2.2.0,>=2.1.0rc0\n",
            "\u001b[?25l  Downloading https://files.pythonhosted.org/packages/18/90/b77c328a1304437ab1310b463e533fa7689f4bfc41549593056d812fab8e/tensorflow_estimator-2.1.0-py2.py3-none-any.whl (448kB)\n",
            "\u001b[K     |████████████████████████████████| 450kB 27.8MB/s \n",
            "\u001b[?25hRequirement already satisfied: keras-applications>=1.0.8 in /usr/local/lib/python2.7/dist-packages (from tensorflow->keras==2.0.0) (1.0.8)\n",
            "Requirement already satisfied: functools32>=3.2.3; python_version < \"3\" in /usr/local/lib/python2.7/dist-packages (from tensorflow->keras==2.0.0) (3.2.3.post2)\n",
            "Requirement already satisfied: termcolor>=1.1.0 in /usr/local/lib/python2.7/dist-packages (from tensorflow->keras==2.0.0) (1.1.0)\n",
            "Requirement already satisfied: absl-py>=0.7.0 in /usr/local/lib/python2.7/dist-packages (from tensorflow->keras==2.0.0) (0.7.1)\n",
            "Requirement already satisfied: opt-einsum>=2.3.2 in /usr/local/lib/python2.7/dist-packages (from tensorflow->keras==2.0.0) (2.3.2)\n",
            "Requirement already satisfied: tensorboard<2.2.0,>=2.1.0 in /usr/local/lib/python2.7/dist-packages (from tensorflow->keras==2.0.0) (2.1.0)\n",
            "Requirement already satisfied: google-pasta>=0.1.6 in /usr/local/lib/python2.7/dist-packages (from tensorflow->keras==2.0.0) (0.1.7)\n",
            "Requirement already satisfied: mock>=2.0.0; python_version < \"3\" in /usr/local/lib/python2.7/dist-packages (from tensorflow->keras==2.0.0) (2.0.0)\n",
            "Requirement already satisfied: astor>=0.6.0 in /usr/local/lib/python2.7/dist-packages (from tensorflow->keras==2.0.0) (0.8.0)\n",
            "Requirement already satisfied: futures>=2.2.0 in /usr/local/lib/python2.7/dist-packages (from grpcio>=1.8.6->tensorflow->keras==2.0.0) (3.2.0)\n",
            "Requirement already satisfied: setuptools in /usr/local/lib/python2.7/dist-packages (from protobuf>=3.8.0->tensorflow->keras==2.0.0) (44.1.1)\n",
            "Requirement already satisfied: h5py in /usr/local/lib/python2.7/dist-packages (from keras-applications>=1.0.8->tensorflow->keras==2.0.0) (2.8.0)\n",
            "Collecting google-auth-oauthlib<0.5,>=0.4.1\n",
            "  Downloading https://files.pythonhosted.org/packages/7b/b8/88def36e74bee9fce511c9519571f4e485e890093ab7442284f4ffaef60b/google_auth_oauthlib-0.4.1-py2.py3-none-any.whl\n",
            "Requirement already satisfied: werkzeug>=0.11.15 in /usr/local/lib/python2.7/dist-packages (from tensorboard<2.2.0,>=2.1.0->tensorflow->keras==2.0.0) (0.15.5)\n",
            "Requirement already satisfied: google-auth<2,>=1.6.3 in /usr/local/lib/python2.7/dist-packages (from tensorboard<2.2.0,>=2.1.0->tensorflow->keras==2.0.0) (1.17.2)\n",
            "Requirement already satisfied: requests<3,>=2.21.0 in /usr/local/lib/python2.7/dist-packages (from tensorboard<2.2.0,>=2.1.0->tensorflow->keras==2.0.0) (2.23.0)\n",
            "Requirement already satisfied: markdown>=2.6.8 in /usr/local/lib/python2.7/dist-packages (from tensorboard<2.2.0,>=2.1.0->tensorflow->keras==2.0.0) (3.1.1)\n",
            "Requirement already satisfied: funcsigs>=1; python_version < \"3.3\" in /usr/local/lib/python2.7/dist-packages (from mock>=2.0.0; python_version < \"3\"->tensorflow->keras==2.0.0) (1.0.2)\n",
            "Requirement already satisfied: pbr>=0.11 in /usr/local/lib/python2.7/dist-packages (from mock>=2.0.0; python_version < \"3\"->tensorflow->keras==2.0.0) (5.4.0)\n",
            "Requirement already satisfied: requests-oauthlib>=0.7.0 in /usr/local/lib/python2.7/dist-packages (from google-auth-oauthlib<0.5,>=0.4.1->tensorboard<2.2.0,>=2.1.0->tensorflow->keras==2.0.0) (1.2.0)\n",
            "Requirement already satisfied: cachetools<5.0,>=2.0.0 in /usr/local/lib/python2.7/dist-packages (from google-auth<2,>=1.6.3->tensorboard<2.2.0,>=2.1.0->tensorflow->keras==2.0.0) (3.1.1)\n",
            "Requirement already satisfied: rsa<4.1; python_version < \"3\" in /usr/local/lib/python2.7/dist-packages (from google-auth<2,>=1.6.3->tensorboard<2.2.0,>=2.1.0->tensorflow->keras==2.0.0) (4.0)\n",
            "Requirement already satisfied: pyasn1-modules>=0.2.1 in /usr/local/lib/python2.7/dist-packages (from google-auth<2,>=1.6.3->tensorboard<2.2.0,>=2.1.0->tensorflow->keras==2.0.0) (0.2.5)\n",
            "Requirement already satisfied: urllib3!=1.25.0,!=1.25.1,<1.26,>=1.21.1 in /usr/local/lib/python2.7/dist-packages (from requests<3,>=2.21.0->tensorboard<2.2.0,>=2.1.0->tensorflow->keras==2.0.0) (1.24.3)\n",
            "Requirement already satisfied: chardet<4,>=3.0.2 in /usr/local/lib/python2.7/dist-packages (from requests<3,>=2.21.0->tensorboard<2.2.0,>=2.1.0->tensorflow->keras==2.0.0) (3.0.4)\n",
            "Requirement already satisfied: certifi>=2017.4.17 in /usr/local/lib/python2.7/dist-packages (from requests<3,>=2.21.0->tensorboard<2.2.0,>=2.1.0->tensorflow->keras==2.0.0) (2019.6.16)\n",
            "Requirement already satisfied: idna<3,>=2.5 in /usr/local/lib/python2.7/dist-packages (from requests<3,>=2.21.0->tensorboard<2.2.0,>=2.1.0->tensorflow->keras==2.0.0) (2.8)\n",
            "Requirement already satisfied: oauthlib>=3.0.0 in /usr/local/lib/python2.7/dist-packages (from requests-oauthlib>=0.7.0->google-auth-oauthlib<0.5,>=0.4.1->tensorboard<2.2.0,>=2.1.0->tensorflow->keras==2.0.0) (3.0.2)\n",
            "Requirement already satisfied: pyasn1>=0.1.3 in /usr/local/lib/python2.7/dist-packages (from rsa<4.1; python_version < \"3\"->google-auth<2,>=1.6.3->tensorboard<2.2.0,>=2.1.0->tensorflow->keras==2.0.0) (0.4.5)\n",
            "Building wheels for collected packages: keras\n",
            "  Building wheel for keras (setup.py) ... \u001b[?25l\u001b[?25hdone\n",
            "  Created wheel for keras: filename=Keras-2.0.0-cp27-none-any.whl size=227985 sha256=60d0f029bcbe797a2006bac877c9ebb8ebe6db8ff7088df45732b20b58b45006\n",
            "  Stored in directory: /root/.cache/pip/wheels/b0/a1/f4/f5f6a53dd71728cae0176b860f8c4304dd5d3fc2b8387ef59c\n",
            "Successfully built keras\n",
            "\u001b[31mERROR: tensorboard 2.1.0 has requirement grpcio>=1.24.3, but you'll have grpcio 1.15.0 which is incompatible.\u001b[0m\n",
            "Installing collected packages: q, keras, tensorflow-estimator, google-auth-oauthlib\n",
            "  Found existing installation: Keras 2.3.1\n",
            "    Uninstalling Keras-2.3.1:\n",
            "      Successfully uninstalled Keras-2.3.1\n",
            "  Found existing installation: tensorflow-estimator 1.15.0\n",
            "    Uninstalling tensorflow-estimator-1.15.0:\n",
            "      Successfully uninstalled tensorflow-estimator-1.15.0\n",
            "  Found existing installation: google-auth-oauthlib 0.4.0\n",
            "    Uninstalling google-auth-oauthlib-0.4.0:\n",
            "      Successfully uninstalled google-auth-oauthlib-0.4.0\n",
            "Successfully installed google-auth-oauthlib-0.4.1 keras-2.0.0 q-2.6 tensorflow-estimator-2.1.0\n",
            "Collecting numpy==1.15.0\n",
            "\u001b[?25l  Downloading https://files.pythonhosted.org/packages/85/51/ba4564ded90e093dbb6adfc3e21f99ae953d9ad56477e1b0d4a93bacf7d3/numpy-1.15.0-cp27-cp27mu-manylinux1_x86_64.whl (13.8MB)\n",
            "\u001b[K     |████████████████████████████████| 13.8MB 236kB/s \n",
            "\u001b[31mERROR: tensorflow 2.1.0 has requirement numpy<2.0,>=1.16.0, but you'll have numpy 1.15.0 which is incompatible.\u001b[0m\n",
            "\u001b[31mERROR: fastai 0.7.0 has requirement torch<0.4, but you'll have torch 1.4.0 which is incompatible.\u001b[0m\n",
            "\u001b[31mERROR: albumentations 0.1.12 has requirement imgaug<0.2.7,>=0.2.5, but you'll have imgaug 0.2.9 which is incompatible.\u001b[0m\n",
            "\u001b[31mERROR: tensorboard 2.1.0 has requirement grpcio>=1.24.3, but you'll have grpcio 1.15.0 which is incompatible.\u001b[0m\n",
            "\u001b[?25hInstalling collected packages: numpy\n",
            "  Found existing installation: numpy 1.16.4\n",
            "    Uninstalling numpy-1.16.4:\n",
            "      Successfully uninstalled numpy-1.16.4\n",
            "Successfully installed numpy-1.15.0\n"
          ],
          "name": "stdout"
        },
        {
          "output_type": "display_data",
          "data": {
            "application/vnd.colab-display-data+json": {
              "pip_warning": {
                "packages": [
                  "numpy"
                ]
              }
            }
          },
          "metadata": {
            "tags": []
          }
        },
        {
          "output_type": "stream",
          "text": [
            "Requirement already satisfied: Pillow==4.3.0 in /usr/local/lib/python2.7/dist-packages (4.3.0)\n",
            "Requirement already satisfied: olefile in /usr/local/lib/python2.7/dist-packages (from Pillow==4.3.0) (0.46)\n",
            "Collecting opencv-python==3.4.1.15\n",
            "\u001b[?25l  Downloading https://files.pythonhosted.org/packages/0f/87/46f41c6673106030d835342e65133085c22cb36549a9ab883bb3cd3f00bb/opencv_python-3.4.1.15-cp27-cp27mu-manylinux1_x86_64.whl (24.9MB)\n",
            "\u001b[K     |████████████████████████████████| 24.9MB 122kB/s \n",
            "\u001b[?25hRequirement already satisfied: numpy>=1.11.1 in /usr/local/lib/python2.7/dist-packages (from opencv-python==3.4.1.15) (1.15.0)\n",
            "\u001b[31mERROR: fastai 0.7.0 has requirement torch<0.4, but you'll have torch 1.4.0 which is incompatible.\u001b[0m\n",
            "\u001b[31mERROR: albumentations 0.1.12 has requirement imgaug<0.2.7,>=0.2.5, but you'll have imgaug 0.2.9 which is incompatible.\u001b[0m\n",
            "Installing collected packages: opencv-python\n",
            "  Found existing installation: opencv-python 3.4.5.20\n",
            "    Uninstalling opencv-python-3.4.5.20:\n",
            "      Successfully uninstalled opencv-python-3.4.5.20\n",
            "Successfully installed opencv-python-3.4.1.15\n",
            "Collecting h5py==2.7.0\n",
            "\u001b[?25l  Downloading https://files.pythonhosted.org/packages/07/22/992b1eaa9a33caa40c0fc700bbd5db60da0335c3b581fe1fc72296942736/h5py-2.7.0-cp27-cp27mu-manylinux1_x86_64.whl (4.3MB)\n",
            "\u001b[K     |████████████████████████████████| 4.4MB 83kB/s \n",
            "\u001b[?25hRequirement already satisfied: numpy>=1.7 in /usr/local/lib/python2.7/dist-packages (from h5py==2.7.0) (1.15.0)\n",
            "Requirement already satisfied: six in /usr/local/lib/python2.7/dist-packages (from h5py==2.7.0) (1.12.0)\n",
            "Installing collected packages: h5py\n",
            "  Found existing installation: h5py 2.8.0\n",
            "    Uninstalling h5py-2.8.0:\n",
            "      Successfully uninstalled h5py-2.8.0\n",
            "Successfully installed h5py-2.7.0\n",
            "Collecting ConfigParser==3.5.0b2\n",
            "  Downloading https://files.pythonhosted.org/packages/61/a7/48f627413200d5dfd0a5da8b494d34ccac03f8a87a6b2d765b7d81e175e3/configparser-3.5.0b2.tar.gz\n",
            "Building wheels for collected packages: ConfigParser\n",
            "  Building wheel for ConfigParser (setup.py) ... \u001b[?25l\u001b[?25hdone\n",
            "  Created wheel for ConfigParser: filename=configparser-3.5.0b2-cp27-none-any.whl size=20618 sha256=0f1c4128f15176ba222e87434eec172aae10eb7f973cad06f8021b26feb0fe0b\n",
            "  Stored in directory: /root/.cache/pip/wheels/44/40/1b/443e5d0b85e54203ef7fed03f030f8a81569ef06f68bed0acd\n",
            "Successfully built ConfigParser\n",
            "\u001b[31mERROR: importlib-metadata 1.3.0 has requirement configparser>=3.5; python_version < \"3\", but you'll have configparser 3.5.0b2 which is incompatible.\u001b[0m\n",
            "\u001b[31mERROR: entrypoints 0.3 has requirement configparser>=3.5; python_version == \"2.7\", but you'll have configparser 3.5.0b2 which is incompatible.\u001b[0m\n",
            "Installing collected packages: ConfigParser\n",
            "  Found existing installation: configparser 3.7.4\n",
            "    Uninstalling configparser-3.7.4:\n",
            "      Successfully uninstalled configparser-3.7.4\n",
            "Successfully installed ConfigParser-3.5.0b2\n"
          ],
          "name": "stdout"
        },
        {
          "output_type": "display_data",
          "data": {
            "application/vnd.colab-display-data+json": {
              "pip_warning": {
                "packages": [
                  "backports"
                ]
              }
            }
          },
          "metadata": {
            "tags": []
          }
        },
        {
          "output_type": "stream",
          "text": [
            "Collecting scikit-learn==0.20\n",
            "\u001b[?25l  Downloading https://files.pythonhosted.org/packages/d4/3f/d9225d7d651a0e5562c0896bd9334fff40be1916bdfa07b150d0c0a7c7e2/scikit_learn-0.20.0-cp27-cp27mu-manylinux1_x86_64.whl (5.5MB)\n",
            "\u001b[K     |████████████████████████████████| 5.5MB 650kB/s \n",
            "\u001b[?25hRequirement already satisfied: scipy>=0.13.3 in /usr/local/lib/python2.7/dist-packages (from scikit-learn==0.20) (1.2.2)\n",
            "Requirement already satisfied: numpy>=1.8.2 in /usr/local/lib/python2.7/dist-packages (from scikit-learn==0.20) (1.15.0)\n",
            "Installing collected packages: scikit-learn\n",
            "  Found existing installation: scikit-learn 0.20.3\n",
            "    Uninstalling scikit-learn-0.20.3:\n",
            "      Successfully uninstalled scikit-learn-0.20.3\n",
            "Successfully installed scikit-learn-0.20.0\n",
            "Collecting torchvision==0.3.0\n",
            "\u001b[?25l  Downloading https://files.pythonhosted.org/packages/91/ec/3a5bd85c2655f4285b4ffb600fc05a2f6e8b317bcbda00b45688d790b914/torchvision-0.3.0-cp27-cp27mu-manylinux1_x86_64.whl (2.6MB)\n",
            "\u001b[K     |████████████████████████████████| 2.6MB 22kB/s \n",
            "\u001b[?25hRequirement already satisfied: six in /usr/local/lib/python2.7/dist-packages (from torchvision==0.3.0) (1.12.0)\n",
            "Requirement already satisfied: numpy in /usr/local/lib/python2.7/dist-packages (from torchvision==0.3.0) (1.15.0)\n",
            "Requirement already satisfied: pillow>=4.1.1 in /usr/local/lib/python2.7/dist-packages (from torchvision==0.3.0) (4.3.0)\n",
            "Requirement already satisfied: torch>=1.1.0 in /usr/local/lib/python2.7/dist-packages (from torchvision==0.3.0) (1.4.0)\n",
            "Requirement already satisfied: olefile in /usr/local/lib/python2.7/dist-packages (from pillow>=4.1.1->torchvision==0.3.0) (0.46)\n",
            "\u001b[31mERROR: fastai 0.7.0 has requirement torch<0.4, but you'll have torch 1.4.0 which is incompatible.\u001b[0m\n",
            "Installing collected packages: torchvision\n",
            "  Found existing installation: torchvision 0.5.0\n",
            "    Uninstalling torchvision-0.5.0:\n",
            "      Successfully uninstalled torchvision-0.5.0\n",
            "Successfully installed torchvision-0.3.0\n",
            "Collecting torch==0.3.1\n",
            "\u001b[?25l  Downloading https://files.pythonhosted.org/packages/e0/d2/e069611c5e05b4c0d77f841969aa0e6136c43b7a81c0a6cde4910e49a0ce/torch-0.3.1-cp27-cp27mu-manylinux1_x86_64.whl (496.9MB)\n",
            "\u001b[K     |████████████████████████████████| 496.9MB 27kB/s \n",
            "\u001b[?25hRequirement already satisfied: numpy in /usr/local/lib/python2.7/dist-packages (from torch==0.3.1) (1.15.0)\n",
            "Requirement already satisfied: pyyaml in /usr/local/lib/python2.7/dist-packages (from torch==0.3.1) (3.13)\n",
            "\u001b[31mERROR: torchvision 0.3.0 has requirement torch>=1.1.0, but you'll have torch 0.3.1 which is incompatible.\u001b[0m\n",
            "Installing collected packages: torch\n",
            "  Found existing installation: torch 1.4.0\n",
            "    Uninstalling torch-1.4.0:\n",
            "      Successfully uninstalled torch-1.4.0\n",
            "Successfully installed torch-0.3.1\n",
            "Collecting imgaug==0.2.5\n",
            "\u001b[?25l  Downloading https://files.pythonhosted.org/packages/d2/60/a06a48d85a7e9062f5870347a3e3e953da30b37928d43b380c949bca458a/imgaug-0.2.5.tar.gz (562kB)\n",
            "\u001b[K     |████████████████████████████████| 563kB 8.4MB/s \n",
            "\u001b[?25hRequirement already satisfied: scipy in /usr/local/lib/python2.7/dist-packages (from imgaug==0.2.5) (1.2.2)\n",
            "Requirement already satisfied: scikit-image>=0.11.0 in /usr/local/lib/python2.7/dist-packages (from imgaug==0.2.5) (0.14.3)\n",
            "Requirement already satisfied: numpy>=1.7.0 in /usr/local/lib/python2.7/dist-packages (from imgaug==0.2.5) (1.15.0)\n",
            "Requirement already satisfied: six in /usr/local/lib/python2.7/dist-packages (from imgaug==0.2.5) (1.12.0)\n",
            "Requirement already satisfied: PyWavelets>=0.4.0 in /usr/local/lib/python2.7/dist-packages (from scikit-image>=0.11.0->imgaug==0.2.5) (1.0.3)\n",
            "Requirement already satisfied: networkx>=1.8 in /usr/local/lib/python2.7/dist-packages (from scikit-image>=0.11.0->imgaug==0.2.5) (2.2)\n",
            "Requirement already satisfied: matplotlib>=2.0.0 in /usr/local/lib/python2.7/dist-packages (from scikit-image>=0.11.0->imgaug==0.2.5) (2.2.4)\n",
            "Requirement already satisfied: cloudpickle>=0.2.1 in /usr/local/lib/python2.7/dist-packages (from scikit-image>=0.11.0->imgaug==0.2.5) (1.3.0)\n",
            "Requirement already satisfied: pillow>=4.3.0 in /usr/local/lib/python2.7/dist-packages (from scikit-image>=0.11.0->imgaug==0.2.5) (4.3.0)\n",
            "Requirement already satisfied: decorator>=4.3.0 in /usr/local/lib/python2.7/dist-packages (from networkx>=1.8->scikit-image>=0.11.0->imgaug==0.2.5) (4.4.0)\n",
            "Requirement already satisfied: cycler>=0.10 in /usr/local/lib/python2.7/dist-packages (from matplotlib>=2.0.0->scikit-image>=0.11.0->imgaug==0.2.5) (0.10.0)\n",
            "Requirement already satisfied: backports.functools-lru-cache in /usr/local/lib/python2.7/dist-packages (from matplotlib>=2.0.0->scikit-image>=0.11.0->imgaug==0.2.5) (1.5)\n",
            "Requirement already satisfied: subprocess32 in /usr/local/lib/python2.7/dist-packages (from matplotlib>=2.0.0->scikit-image>=0.11.0->imgaug==0.2.5) (3.5.4)\n",
            "Requirement already satisfied: kiwisolver>=1.0.1 in /usr/local/lib/python2.7/dist-packages (from matplotlib>=2.0.0->scikit-image>=0.11.0->imgaug==0.2.5) (1.1.0)\n",
            "Requirement already satisfied: pytz in /usr/local/lib/python2.7/dist-packages (from matplotlib>=2.0.0->scikit-image>=0.11.0->imgaug==0.2.5) (2018.9)\n",
            "Requirement already satisfied: python-dateutil>=2.1 in /usr/local/lib/python2.7/dist-packages (from matplotlib>=2.0.0->scikit-image>=0.11.0->imgaug==0.2.5) (2.5.3)\n",
            "Requirement already satisfied: pyparsing!=2.0.4,!=2.1.2,!=2.1.6,>=2.0.1 in /usr/local/lib/python2.7/dist-packages (from matplotlib>=2.0.0->scikit-image>=0.11.0->imgaug==0.2.5) (2.4.0)\n",
            "Requirement already satisfied: olefile in /usr/local/lib/python2.7/dist-packages (from pillow>=4.3.0->scikit-image>=0.11.0->imgaug==0.2.5) (0.46)\n",
            "Requirement already satisfied: setuptools in /usr/local/lib/python2.7/dist-packages (from kiwisolver>=1.0.1->matplotlib>=2.0.0->scikit-image>=0.11.0->imgaug==0.2.5) (44.1.1)\n",
            "Building wheels for collected packages: imgaug\n",
            "  Building wheel for imgaug (setup.py) ... \u001b[?25l\u001b[?25hdone\n",
            "  Created wheel for imgaug: filename=imgaug-0.2.5-cp27-none-any.whl size=561441 sha256=2edc6e4be64e247aad9fa18a2628874ef113cebc66948967460b641e15ce9443\n",
            "  Stored in directory: /root/.cache/pip/wheels/31/48/c8/ca3345e8582a078de94243996e148377ef66fdb845557bae0b\n",
            "Successfully built imgaug\n",
            "Installing collected packages: imgaug\n",
            "  Found existing installation: imgaug 0.2.9\n",
            "    Uninstalling imgaug-0.2.9:\n",
            "      Successfully uninstalled imgaug-0.2.9\n",
            "Successfully installed imgaug-0.2.5\n"
          ],
          "name": "stdout"
        }
      ]
    },
    {
      "cell_type": "code",
      "metadata": {
        "id": "2vUoL1jemPI6",
        "colab_type": "code",
        "colab": {
          "base_uri": "https://localhost:8080/",
          "height": 34
        },
        "outputId": "5b1c5e13-bd83-4c06-b797-20ec318b4480"
      },
      "source": [
        "! git clone https://github.com/huckiyang/EyeNet2.git "
      ],
      "execution_count": 2,
      "outputs": [
        {
          "output_type": "stream",
          "text": [
            "fatal: destination path 'EyeNet2' already exists and is not an empty directory.\n"
          ],
          "name": "stdout"
        }
      ]
    },
    {
      "cell_type": "code",
      "metadata": {
        "id": "MLKpAyb1mhUM",
        "colab_type": "code",
        "colab": {
          "base_uri": "https://localhost:8080/",
          "height": 34
        },
        "outputId": "0cb60b88-d5a5-45ea-9cf0-a1485e5bbfbc"
      },
      "source": [
        "cd /content/EyeNet2"
      ],
      "execution_count": 3,
      "outputs": [
        {
          "output_type": "stream",
          "text": [
            "/content/EyeNet2\n"
          ],
          "name": "stdout"
        }
      ]
    },
    {
      "cell_type": "code",
      "metadata": {
        "id": "JOC_Qubpmo4V",
        "colab_type": "code",
        "colab": {
          "base_uri": "https://localhost:8080/",
          "height": 1000
        },
        "outputId": "ad8570cc-a475-408f-b744-1cb6cd7d773b"
      },
      "source": [
        "!python prepare_datasets_DRIVE.py "
      ],
      "execution_count": 6,
      "outputs": [
        {
          "output_type": "stream",
          "text": [
            "/usr/local/lib/python2.7/dist-packages/h5py/__init__.py:34: RuntimeWarning: numpy.dtype size changed, may indicate binary incompatibility. Expected 96, got 88\n",
            "  from ._conv import register_converters as _register_converters\n",
            "/usr/local/lib/python2.7/dist-packages/h5py/__init__.py:34: FutureWarning: Conversion of the second argument of issubdtype from `float` to `np.floating` is deprecated. In future, it will be treated as `np.float64 == np.dtype(float).type`.\n",
            "  from ._conv import register_converters as _register_converters\n",
            "/usr/local/lib/python2.7/dist-packages/h5py/__init__.py:43: RuntimeWarning: numpy.dtype size changed, may indicate binary incompatibility. Expected 96, got 88\n",
            "  from . import h5a, h5d, h5ds, h5f, h5fd, h5g, h5r, h5s, h5t, h5p, h5z\n",
            "/usr/local/lib/python2.7/dist-packages/h5py/_hl/group.py:24: RuntimeWarning: numpy.dtype size changed, may indicate binary incompatibility. Expected 96, got 88\n",
            "  from .. import h5g, h5i, h5o, h5r, h5t, h5l, h5p\n",
            "original image: 26_training.tif\n",
            "ground truth name: 26_manual1.gif\n",
            "border masks name: 26_training_mask.gif\n",
            "original image: 39_training.tif\n",
            "ground truth name: 39_manual1.gif\n",
            "border masks name: 39_training_mask.gif\n",
            "original image: 34_training.tif\n",
            "ground truth name: 34_manual1.gif\n",
            "border masks name: 34_training_mask.gif\n",
            "original image: 30_training.tif\n",
            "ground truth name: 30_manual1.gif\n",
            "border masks name: 30_training_mask.gif\n",
            "original image: 40_training.tif\n",
            "ground truth name: 40_manual1.gif\n",
            "border masks name: 40_training_mask.gif\n",
            "original image: 29_training.tif\n",
            "ground truth name: 29_manual1.gif\n",
            "border masks name: 29_training_mask.gif\n",
            "original image: 35_training.tif\n",
            "ground truth name: 35_manual1.gif\n",
            "border masks name: 35_training_mask.gif\n",
            "original image: 22_training.tif\n",
            "ground truth name: 22_manual1.gif\n",
            "border masks name: 22_training_mask.gif\n",
            "original image: 32_training.tif\n",
            "ground truth name: 32_manual1.gif\n",
            "border masks name: 32_training_mask.gif\n",
            "original image: 37_training.tif\n",
            "ground truth name: 37_manual1.gif\n",
            "border masks name: 37_training_mask.gif\n",
            "original image: 28_training.tif\n",
            "ground truth name: 28_manual1.gif\n",
            "border masks name: 28_training_mask.gif\n",
            "original image: 36_training.tif\n",
            "ground truth name: 36_manual1.gif\n",
            "border masks name: 36_training_mask.gif\n",
            "original image: 38_training.tif\n",
            "ground truth name: 38_manual1.gif\n",
            "border masks name: 38_training_mask.gif\n",
            "original image: 25_training.tif\n",
            "ground truth name: 25_manual1.gif\n",
            "border masks name: 25_training_mask.gif\n",
            "original image: 24_training.tif\n",
            "ground truth name: 24_manual1.gif\n",
            "border masks name: 24_training_mask.gif\n",
            "original image: 23_training.tif\n",
            "ground truth name: 23_manual1.gif\n",
            "border masks name: 23_training_mask.gif\n",
            "original image: 21_training.tif\n",
            "ground truth name: 21_manual1.gif\n",
            "border masks name: 21_training_mask.gif\n",
            "original image: 33_training.tif\n",
            "ground truth name: 33_manual1.gif\n",
            "border masks name: 33_training_mask.gif\n",
            "original image: 27_training.tif\n",
            "ground truth name: 27_manual1.gif\n",
            "border masks name: 27_training_mask.gif\n",
            "original image: 31_training.tif\n",
            "ground truth name: 31_manual1.gif\n",
            "border masks name: 31_training_mask.gif\n",
            "imgs max: 255.0\n",
            "imgs min: 0.0\n",
            "ground truth and border masks are correctly withih pixel value range 0-255 (black-white)\n",
            "saving train datasets\n",
            "original image: 17_test.tif\n",
            "ground truth name: 17_manual1.gif\n",
            "border masks name: 17_test_mask.gif\n",
            "original image: 08_test.tif\n",
            "ground truth name: 08_manual1.gif\n",
            "border masks name: 08_test_mask.gif\n",
            "original image: 16_test.tif\n",
            "ground truth name: 16_manual1.gif\n",
            "border masks name: 16_test_mask.gif\n",
            "original image: 05_test.tif\n",
            "ground truth name: 05_manual1.gif\n",
            "border masks name: 05_test_mask.gif\n",
            "original image: 01_test.tif\n",
            "ground truth name: 01_manual1.gif\n",
            "border masks name: 01_test_mask.gif\n",
            "original image: 07_test.tif\n",
            "ground truth name: 07_manual1.gif\n",
            "border masks name: 07_test_mask.gif\n",
            "original image: 18_test.tif\n",
            "ground truth name: 18_manual1.gif\n",
            "border masks name: 18_test_mask.gif\n",
            "original image: 19_test.tif\n",
            "ground truth name: 19_manual1.gif\n",
            "border masks name: 19_test_mask.gif\n",
            "original image: 03_test.tif\n",
            "ground truth name: 03_manual1.gif\n",
            "border masks name: 03_test_mask.gif\n",
            "original image: 13_test.tif\n",
            "ground truth name: 13_manual1.gif\n",
            "border masks name: 13_test_mask.gif\n",
            "original image: 02_test.tif\n",
            "ground truth name: 02_manual1.gif\n",
            "border masks name: 02_test_mask.gif\n",
            "original image: 09_test.tif\n",
            "ground truth name: 09_manual1.gif\n",
            "border masks name: 09_test_mask.gif\n",
            "original image: 20_test.tif\n",
            "ground truth name: 20_manual1.gif\n",
            "border masks name: 20_test_mask.gif\n",
            "original image: 15_test.tif\n",
            "ground truth name: 15_manual1.gif\n",
            "border masks name: 15_test_mask.gif\n",
            "original image: 04_test.tif\n",
            "ground truth name: 04_manual1.gif\n",
            "border masks name: 04_test_mask.gif\n",
            "original image: 11_test.tif\n",
            "ground truth name: 11_manual1.gif\n",
            "border masks name: 11_test_mask.gif\n",
            "original image: 14_test.tif\n",
            "ground truth name: 14_manual1.gif\n",
            "border masks name: 14_test_mask.gif\n",
            "original image: 10_test.tif\n",
            "ground truth name: 10_manual1.gif\n",
            "border masks name: 10_test_mask.gif\n",
            "original image: 12_test.tif\n",
            "ground truth name: 12_manual1.gif\n",
            "border masks name: 12_test_mask.gif\n",
            "original image: 06_test.tif\n",
            "ground truth name: 06_manual1.gif\n",
            "border masks name: 06_test_mask.gif\n",
            "imgs max: 255.0\n",
            "imgs min: 0.0\n",
            "ground truth and border masks are correctly withih pixel value range 0-255 (black-white)\n",
            "saving test datasets\n"
          ],
          "name": "stdout"
        }
      ]
    },
    {
      "cell_type": "code",
      "metadata": {
        "id": "p7J4JKYgnD2b",
        "colab_type": "code",
        "colab": {
          "base_uri": "https://localhost:8080/",
          "height": 649
        },
        "outputId": "a07c58cd-c0cf-4945-e32e-f9096a798f7c"
      },
      "source": [
        "!python run_training.py"
      ],
      "execution_count": 27,
      "outputs": [
        {
          "output_type": "stream",
          "text": [
            "\n",
            "1. Create directory for the results (if not already existing)\n",
            "Dir already existing\n",
            "copy the configuration file in the results folder\n",
            "\n",
            "2. Run the training on GPU (no nohup)\n",
            "Using TensorFlow backend.\n",
            "/usr/local/lib/python2.7/dist-packages/h5py/__init__.py:34: RuntimeWarning: numpy.dtype size changed, may indicate binary incompatibility. Expected 96, got 88\n",
            "  from ._conv import register_converters as _register_converters\n",
            "/usr/local/lib/python2.7/dist-packages/h5py/__init__.py:34: FutureWarning: Conversion of the second argument of issubdtype from `float` to `np.floating` is deprecated. In future, it will be treated as `np.float64 == np.dtype(float).type`.\n",
            "  from ._conv import register_converters as _register_converters\n",
            "/usr/local/lib/python2.7/dist-packages/h5py/__init__.py:43: RuntimeWarning: numpy.dtype size changed, may indicate binary incompatibility. Expected 96, got 88\n",
            "  from . import h5a, h5d, h5ds, h5f, h5fd, h5g, h5r, h5s, h5t, h5p, h5z\n",
            "/usr/local/lib/python2.7/dist-packages/h5py/_hl/group.py:24: RuntimeWarning: numpy.dtype size changed, may indicate binary incompatibility. Expected 96, got 88\n",
            "  from .. import h5g, h5i, h5o, h5r, h5t, h5l, h5p\n",
            "\n",
            "train images/masks shape:\n",
            "(20, 1, 565, 565)\n",
            "train images range (min-max): 0.0 - 1.0\n",
            "train masks are within 0-1\n",
            "\n",
            "tcmalloc: large alloc 3502080000 bytes == 0x5613a1aa0000 @  0x7fdad96ac1e7 0x7fdad76f1801 0x7fdad7754596 0x7fdad7754b47 0x7fdad77ecb28 0x5613869fcbba 0x5613869fa2aa 0x561386a01dce 0x5613869fa2aa 0x561386a0239e 0x5613869fa2aa 0x5613869f9d19 0x561386a2a94f 0x561386a25be2 0x561386a2560d 0x5613869d4356 0x7fdad92a9b97 0x5613869d3c4a\n",
            "tcmalloc: large alloc 3502080000 bytes == 0x561472678000 @  0x7fdad96ac1e7 0x7fdad76f1801 0x7fdad7754596 0x7fdad7754b47 0x7fdad77ecb28 0x5613869fcbba 0x5613869fa2aa 0x561386a01dce 0x5613869fa2aa 0x561386a0239e 0x5613869fa2aa 0x5613869f9d19 0x561386a2a94f 0x561386a25be2 0x561386a2560d 0x5613869d4356 0x7fdad92a9b97 0x5613869d3c4a\n",
            "patches per full image: 9500\n",
            "\n",
            "train PATCHES images/masks shape:\n",
            "(190000, 1, 48, 48)\n",
            "train PATCHES images range (min-max): 0.0 - 1.0\n",
            "/usr/local/lib/python2.7/dist-packages/keras/legacy/interfaces.py:86: UserWarning: Update your `Model` call to the Keras 2 API: `Model(outputs=Tensor(\"ac..., inputs=Tensor(\"in...)`\n",
            "  '` call to the Keras 2 API: ' + signature)\n",
            "Check: final output of the network:\n",
            "(None, 2304, 2)\n",
            "Traceback (most recent call last):\n",
            "  File \"./src/retinaNN_training.py\", line 171, in <module>\n",
            "    plt(model, to_file='./'+name_experiment+'/'+name_experiment + '_model.png')   #check how the model looks like\n",
            "TypeError: 'module' object is not callable\n"
          ],
          "name": "stdout"
        }
      ]
    },
    {
      "cell_type": "code",
      "metadata": {
        "id": "pVAnThnhmqkf",
        "colab_type": "code",
        "colab": {}
      },
      "source": [
        "pip install tensorflow==1.4"
      ],
      "execution_count": null,
      "outputs": []
    }
  ]
}